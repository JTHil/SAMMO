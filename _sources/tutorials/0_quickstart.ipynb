{
 "cells": [
  {
   "cell_type": "code",
   "execution_count": 13,
   "metadata": {
    "editable": true,
    "slideshow": {
     "slide_type": ""
    },
    "tags": [
     "remove-cell"
    ]
   },
   "outputs": [],
   "source": [
    "# Load from parent directory if not installed\n",
    "import importlib\n",
    "import os\n",
    "\n",
    "if not importlib.util.find_spec(\"sammo\"):\n",
    "    import sys\n",
    "\n",
    "    sys.path.append(\"../\")\n",
    "os.environ[\"CACHE_FILE\"] = \"cache/quickstart.tsv\""
   ]
  },
  {
   "cell_type": "markdown",
   "metadata": {
    "editable": true,
    "slideshow": {
     "slide_type": ""
    },
    "tags": []
   },
   "source": [
    "# 🚀 Quick Start\n",
    "\n",
    "To illustrate some of the core concepts, let's use SAMMO to generate content for a travel website.\n",
    "\n",
    "To run this example, you need API credentials to an OpenAI API compatible model. \n",
    "\n",
    "Below, we will use ChatGPT-3.5 and also cache any requests made."
   ]
  },
  {
   "cell_type": "code",
   "execution_count": 14,
   "metadata": {
    "editable": true,
    "slideshow": {
     "slide_type": ""
    },
    "tags": []
   },
   "outputs": [],
   "source": [
    "# %load -r :27 _init.py\n",
    "import pathlib\n",
    "import sammo\n",
    "from sammo.runners import OpenAIChat\n",
    "from sammo.base import Template, EvaluationScore\n",
    "from sammo.components import Output, GenerateText, ForEach, Union\n",
    "from sammo.extractors import ExtractRegex\n",
    "from sammo.data import DataTable\n",
    "import json\n",
    "import requests\n",
    "import os\n",
    "\n",
    "API_CONFIG_FILE = pathlib.Path().cwd().parent / \"config\" / \"personal.openai\"\n",
    "API_CONFIG = \"\"\n",
    "if API_CONFIG_FILE.exists():\n",
    "    API_CONFIG = API_CONFIG_FILE\n",
    "if not API_CONFIG:\n",
    "    raise ValueError('Please set API_CONFIG to {\"api_key\": \"YOUR_KEY\"}')\n",
    "\n",
    "_ = sammo.setup_logger(\"WARNING\")  # we're only interested in warnings for now\n",
    "\n",
    "runner = OpenAIChat(\n",
    "    model_id=\"gpt-3.5-turbo-16k\",\n",
    "    api_config=API_CONFIG,\n",
    "    cache=os.getenv(\"CACHE_FILE\", \"cache.tsv\"),\n",
    "    timeout=30,\n",
    ")"
   ]
  },
  {
   "cell_type": "markdown",
   "metadata": {
    "editable": true,
    "slideshow": {
     "slide_type": ""
    },
    "tags": []
   },
   "source": [
    "How about a quick 'Hello World?'?"
   ]
  },
  {
   "cell_type": "code",
   "execution_count": 15,
   "metadata": {
    "editable": true,
    "slideshow": {
     "slide_type": ""
    },
    "tags": []
   },
   "outputs": [
    {
     "data": {
      "text/plain": [
       "+---------+------------------------------------+\n",
       "| input   | output                             |\n",
       "+=========+====================================+\n",
       "| None    | Hello! How can I assist you today? |\n",
       "+---------+------------------------------------+\n",
       "Constants: None"
      ]
     },
     "execution_count": 15,
     "metadata": {},
     "output_type": "execute_result"
    }
   ],
   "source": [
    "Output(GenerateText(\"Hello World!\")).run(runner)"
   ]
  },
  {
   "cell_type": "markdown",
   "metadata": {},
   "source": [
    "Calls via `.run()` always return a DataTable which keeps track of the input and output. It might be a little confusing to see an empty input field, but this is because we did not specify any actual input data. More on this in \"Working with Data\"."
   ]
  },
  {
   "cell_type": "markdown",
   "metadata": {
    "editable": true,
    "slideshow": {
     "slide_type": ""
    },
    "tags": []
   },
   "source": [
    "## Specifying a metaprompt\n",
    "Let's say we have a list of countries. For each country, we want the top reason to visit as well as when to visit."
   ]
  },
  {
   "cell_type": "code",
   "execution_count": 16,
   "metadata": {
    "editable": true,
    "slideshow": {
     "slide_type": ""
    },
    "tags": []
   },
   "outputs": [
    {
     "name": "stdout",
     "output_type": "stream",
     "text": [
      "minibatches[###################################################################################]5/5[00:00<??:??, 0.00it/s]\n",
      "+-------------+------------------------------------------------------------------------------------------------------+\n",
      "| input       | output                                                                                               |\n",
      "+=============+======================================================================================================+\n",
      "| Switzerland | # Switzerland The top reason to visit Switzerland is to experience its breathtaking landscapes, from |\n",
      "|             | majestic mountains to pristine lakes.  ## When to Visit The best time to visit Switzerland is during |\n",
      "|             | the summer season (June to August) when the weather is pleasant and outdoor activities are abun...   |\n",
      "+-------------+------------------------------------------------------------------------------------------------------+\n",
      "| Morocco     | # Morocco The top reason to visit Morocco is to immerse yourself in its rich and diverse culture,    |\n",
      "|             | blending Arab, Berber, and European influences.  ## When to Visit The best time to visit Morocco is  |\n",
      "|             | during spring (March to May) when the weather is pleasant and the landscapes are lush.               |\n",
      "+-------------+------------------------------------------------------------------------------------------------------+\n",
      "| Tanzania    | # Tanzania The top reason to visit Tanzania is to witness the breathtaking beauty of the Serengeti   |\n",
      "|             | National Park and experience the awe-inspiring Great Migration.  ## When to Visit The best time to   |\n",
      "|             | visit Tanzania is during the dry season, from June to October, when wildlife viewing is at its peak. |\n",
      "+-------------+------------------------------------------------------------------------------------------------------+\n",
      "| Indonesia   | # Indonesia The top reason to visit Indonesia is its breathtaking natural beauty, from stunning      |\n",
      "|             | beaches and lush rainforests to active volcanoes and diverse wildlife.  ## When to Visit The best    |\n",
      "|             | time to visit Indonesia is during the dry season, which is from May to September.                    |\n",
      "+-------------+------------------------------------------------------------------------------------------------------+\n",
      "| Peru        | # Peru The top reason to visit Peru is to experience the awe-inspiring ancient ruins of Machu        |\n",
      "|             | Picchu.  ## When to Visit The best time to visit Peru is during the dry season, which is from May to |\n",
      "|             | September.                                                                                           |\n",
      "+-------------+------------------------------------------------------------------------------------------------------+\n",
      "Constants: None\n"
     ]
    }
   ],
   "source": [
    "COUNTRIES = [\"Switzerland\", \"Morocco\", \"Tanzania\", \"Indonesia\", \"Peru\"]\n",
    "\n",
    "reason_to_visit = GenerateText(\n",
    "    Template(\"What is the top reason to visit {{input}} in one sentence?\")\n",
    ")\n",
    "when_to_visit = GenerateText(\n",
    "    Template(\n",
    "        \"Which season is the best time to visit {{input}}? Answer in one sentence.\"\n",
    "    )\n",
    ")\n",
    "country_pages = Template(\n",
    "    \"# {{input}}\\n{{reason}}\\n\\n## When to Visit\\n{{when}}\",\n",
    "    reason=reason_to_visit,\n",
    "    when=when_to_visit,\n",
    ")\n",
    "\n",
    "results = Output(country_pages).run(runner, COUNTRIES)\n",
    "print(results.to_string(max_col_width=100, max_cell_length=300))"
   ]
  },
  {
   "cell_type": "markdown",
   "metadata": {
    "editable": true,
    "slideshow": {
     "slide_type": ""
    },
    "tags": []
   },
   "source": [
    "Great, we just finished our travel blog in less than five minutes! \n",
    "\n",
    "Under the hood, `country_pages` is a graph of nested `Components` and gets called from the inside out. We refer to these call graphs as *metaprompts* because they are abstract away input data (as opposed to *prompts* which are concrete text strings sent to an LLM).\n",
    "\n",
    "We can see the metaprompt structure by simply printing it:"
   ]
  },
  {
   "cell_type": "code",
   "execution_count": 11,
   "metadata": {
    "editable": true,
    "slideshow": {
     "slide_type": ""
    },
    "tags": []
   },
   "outputs": [
    {
     "name": "stdout",
     "output_type": "stream",
     "text": [
      "Template(\n",
      "  template_text = '# {{input}}\n",
      "{{reason}}\n",
      "\n",
      "## When to Visit\n",
      "{{when}}',\n",
      "  name = None,\n",
      "  reason = GenerateText(\n",
      "    child = Template(\n",
      "      template_text = 'What is the top reason to visit {{input}} in one sentence?',\n",
      "      name = None\n",
      "    ),\n",
      "    name = None,\n",
      "    system_prompt = None,\n",
      "    history = None,\n",
      "    seed = 0,\n",
      "    randomness = 0,\n",
      "    max_tokens = None,\n",
      "    on_error = 'raise'\n",
      "  ),\n",
      "  when = GenerateText(\n",
      "    child = Template(\n",
      "      template_text = 'Which season is the best time to visit {{input}}? Answer in one sentence.',\n",
      "      name = None\n",
      "    ),\n",
      "    name = None,\n",
      "    system_prompt = None,\n",
      "    history = None,\n",
      "    seed = 0,\n",
      "    randomness = 0,\n",
      "    max_tokens = None,\n",
      "    on_error = 'raise'\n",
      "  )\n",
      ")\n"
     ]
    }
   ],
   "source": [
    "print(country_pages)"
   ]
  },
  {
   "cell_type": "markdown",
   "metadata": {
    "editable": true,
    "slideshow": {
     "slide_type": ""
    },
    "tags": []
   },
   "source": [
    "`SAMMO` also knows which operations can be done in parallel and schedules things accordingly. You can specify call limits the `Runner` instance (more on this in the section on minibatching).\n",
    "\n",
    "## Recap\n",
    "Let's talk about some of the key concepts from SAMMO we have used:\n",
    "\n",
    "1. We constructed a **metaprompt** — a dynamic prompt that is re-used for different inputs.\n",
    "2. This metaprompt has a structure which was constructed by nesting **components** from SAMMO. A helpful analogy might be to think of how we construct neural architectures.\n",
    "3. To get the **output** for a metaprompt, we need to wrap the metaprompt in an Output component which returns a list of Result objects.\n",
    "4. SAMMO **parallelized** execution for us on the input data — no extra work was needed! "
   ]
  }
 ],
 "metadata": {
  "kernelspec": {
   "display_name": "Python 3 (ipykernel)",
   "language": "python",
   "name": "python3"
  },
  "language_info": {
   "codemirror_mode": {
    "name": "ipython",
    "version": 3
   },
   "file_extension": ".py",
   "mimetype": "text/x-python",
   "name": "python",
   "nbconvert_exporter": "python",
   "pygments_lexer": "ipython3",
   "version": "3.11.5"
  },
  "widgets": {
   "application/vnd.jupyter.widget-state+json": {
    "state": {},
    "version_major": 2,
    "version_minor": 0
   }
  }
 },
 "nbformat": 4,
 "nbformat_minor": 4
}
